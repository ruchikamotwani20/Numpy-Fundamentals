{
 "cells": [
  {
   "cell_type": "code",
   "execution_count": 16,
   "id": "0f22afea-d1bb-49ed-9b5e-a8597337fba0",
   "metadata": {},
   "outputs": [],
   "source": [
    "import numpy as np"
   ]
  },
  {
   "cell_type": "markdown",
   "id": "adcf3ef7-58c1-42e9-b7bd-0d1198fa6b07",
   "metadata": {},
   "source": [
    "<h3> The Basics</h3>"
   ]
  },
  {
   "cell_type": "code",
   "execution_count": null,
   "id": "7749f024-bccf-4905-8fda-cda83b5a46a9",
   "metadata": {},
   "outputs": [],
   "source": [
    "a = np.array([1,2,3])\n",
    "print (a)\n",
    "\n",
    "# The correct syntax of 2-D array in numpy is \n",
    "# b=np.array([[row_1],[row_2])\n",
    "b = np.array([[1,2,3],[4,5,6]])\n",
    "print(b)"
   ]
  },
  {
   "cell_type": "code",
   "execution_count": 28,
   "id": "e71cf4ef-0b94-4192-9eeb-8d17f1a795c9",
   "metadata": {},
   "outputs": [
    {
     "name": "stdout",
     "output_type": "stream",
     "text": [
      "1\n",
      "2\n",
      "(3,)\n",
      "(2, 3)\n",
      "int64\n",
      "int64\n"
     ]
    }
   ],
   "source": [
    "# Get Dimension of an array\n",
    "print(a.ndim) # 1 - since it is a 1-D array\n",
    "print(b.ndim) # 2 - since it is a 2-D array\n",
    "\n",
    "# Get shape of an array\n",
    "print(a.shape) # (3,) - since it has three elements in a 1-D array\n",
    "print(b.shape) # (2,3) - 2 rows and three columns\n",
    "\n",
    "#Get data type of an array\n",
    "print(a.dtype)\n",
    "print(b.dtype)\n",
    "\n"
   ]
  },
  {
   "cell_type": "markdown",
   "id": "0963075b-7d91-40d5-852e-bbb66793f647",
   "metadata": {},
   "source": [
    "<h3>Accessing / Changing specific elements of rows and columns</h3>"
   ]
  },
  {
   "cell_type": "code",
   "execution_count": 64,
   "id": "60655d17-a859-4950-933d-102c127de53b",
   "metadata": {},
   "outputs": [
    {
     "name": "stdout",
     "output_type": "stream",
     "text": [
      "[[ 1  2  3  4  5  6  7]\n",
      " [ 8  9 10 11 12 13 14]]\n",
      "Shape of a (2, 7)\n",
      "13\n",
      "13\n",
      "[1 2 3 4 5 6 7]\n",
      "[2 9]\n",
      "[2 4 6]\n",
      "[[ 1  2  3  4  5  6  7]\n",
      " [ 8  9 10 11 12 13 41]]\n",
      "[[ 1  5  3  4  5  6  7]\n",
      " [ 8  5 10 11 12 13 41]]\n",
      "[[[1 2]\n",
      "  [3 4]]\n",
      "\n",
      " [[5 6]\n",
      "  [7 8]]]\n",
      "4\n"
     ]
    }
   ],
   "source": [
    "a=np.array([[1,2,3,4,5,6,7],[8,9,10,11,12,13,14]])\n",
    "print(a)\n",
    "print('Shape of a', a.shape) # 2 rows and 7 columns\n",
    "\n",
    "# Access a specific element\n",
    "print(a[1,5]) # 13\n",
    "#OR\n",
    "print(a[1,-2])\n",
    "\n",
    "# Get a specific row\n",
    "print(a[0,:])\n",
    "# Get a specific Column \n",
    "print(a[:,1])\n",
    "\n",
    "# Get 2,4,6 from row 0\n",
    "print(a[0,1:6:2])\n",
    "\n",
    "# Changing of elements \n",
    "a[1,-1]=41\n",
    "print(a)\n",
    "\n",
    "# Change all rows and second column to 5\n",
    "a[:,1]=5\n",
    "print(a)\n",
    "\n",
    "# EXAMPLE\n",
    "dummy = np.array([[[1,2],[3,4]],[[5,6],[7,8]]])\n",
    "print(dummy)\n",
    "\n",
    "dummy.shape\n",
    "\n",
    "# To access the element 4\n",
    "print(dummy[0,1,1])"
   ]
  },
  {
   "cell_type": "markdown",
   "id": "1010dce8-f08e-40e6-8253-3e96bdbe32ee",
   "metadata": {},
   "source": [
    "<h3>Initializing different types of array</h3>"
   ]
  },
  {
   "cell_type": "code",
   "execution_count": 102,
   "id": "87b1326d-8787-4c66-adc9-a92539f711af",
   "metadata": {},
   "outputs": [
    {
     "name": "stdout",
     "output_type": "stream",
     "text": [
      "[0. 0. 0. 0. 0. 0.]\n",
      "[0 0 0 0 0 0]\n",
      "[[0. 0. 0.]\n",
      " [0. 0. 0.]]\n",
      "[1 1 1]\n",
      "[[99 99]\n",
      " [99 99]]\n",
      "[[0.80502715 0.40883446]\n",
      " [0.52476542 0.94352262]\n",
      " [0.51244258 0.14724816]\n",
      " [0.65685628 0.41319569]]\n",
      "4\n",
      "[[5 5 6]\n",
      " [5 4 4]\n",
      " [5 6 4]]\n",
      "[[1 0 0]\n",
      " [0 1 0]\n",
      " [0 0 1]]\n",
      "[[1 2 3]\n",
      " [1 2 3]\n",
      " [1 2 3]]\n",
      "[[1 1 1 2 2 2 3 3 3]]\n"
     ]
    }
   ],
   "source": [
    "# ALL 0'S MATRIX\n",
    "q=np.zeros(6)\n",
    "w=np.zeros(6, dtype='int32')\n",
    "e=np.zeros((2,3))\n",
    "print(q)\n",
    "print(w)\n",
    "print(e)\n",
    "\n",
    "# ALL 1'S MATRIX\n",
    "r= np.ones(3, dtype='int32')\n",
    "print(r)\n",
    "\n",
    "# ANY OTHER NUMBER\n",
    "f=np.full((2,2),99)\n",
    "print(f)\n",
    "\n",
    "# RANDOM DECIMAL NUMBER\n",
    "v = np.random.rand(4,2)\n",
    "print(v)\n",
    "\n",
    "# RANDOM INTEGER NUMBER\n",
    "y= np.random.randint(9)\n",
    "print(y)\n",
    "\n",
    "z= np.random.randint(4,7,size=(3,3))\n",
    "print(z)\n",
    "\n",
    "# IDENTITY MATRIX\n",
    "g= np.identity(3, dtype='int32')\n",
    "print(g)\n",
    "\n",
    "# REPEATING THE ARRAY \n",
    "arr = np.array([[1,2,3]]) # 2-D array\n",
    "rep = np.repeat(arr,3,axis=0) # along the rows\n",
    "rep_1 = np.repeat(arr,3,axis=1) # along the columns\n",
    "print(rep)\n",
    "print(rep_1)"
   ]
  },
  {
   "cell_type": "markdown",
   "id": "a031d6a5-d80f-4045-967c-2d68f0b4e167",
   "metadata": {},
   "source": [
    "<h3>SOLVE THIS PROBLEM</h3>\n"
   ]
  },
  {
   "cell_type": "markdown",
   "id": "71f758fd-7a1d-4d5f-aef4-309b34d84c55",
   "metadata": {},
   "source": [
    "INITIALIZE THIS ARRAY WITHOUT MANUALLY TYPING IT\n",
    "1 1 1 1 1\n",
    "1 0 0 0 1\n",
    "1 0 9 0 1\n",
    "1 0 0 0 1\n",
    "1 1 1 1 1\n"
   ]
  },
  {
   "cell_type": "code",
   "execution_count": 133,
   "id": "8f7cddf1-7a3b-45d3-8fe5-e481d4121bf9",
   "metadata": {},
   "outputs": [
    {
     "name": "stdout",
     "output_type": "stream",
     "text": [
      "[[1 1 1 1 1]\n",
      " [1 1 1 1 1]\n",
      " [1 1 1 1 1]\n",
      " [1 1 1 1 1]\n",
      " [1 1 1 1 1]]\n",
      "[[0 0 0]\n",
      " [0 0 0]\n",
      " [0 0 0]]\n",
      "[[0 0 0]\n",
      " [0 9 0]\n",
      " [0 0 0]]\n",
      "[[1 1 1 1 1]\n",
      " [1 0 0 0 1]\n",
      " [1 0 9 0 1]\n",
      " [1 0 0 0 1]\n",
      " [1 1 1 1 1]]\n"
     ]
    }
   ],
   "source": [
    "s1 = np.ones((5,5), dtype='int32')\n",
    "\n",
    "s2= np.zeros((3,3),dtype='int32')\n",
    "print(s1)\n",
    "print(s2)\n",
    "\n",
    "s2[1,1]=9\n",
    "print(s2)\n",
    "\n",
    "s1[1:4,1:4]=s2\n",
    "print(s1)"
   ]
  },
  {
   "cell_type": "markdown",
   "id": "261b361d-2f9a-44d3-ac7f-5eef26471521",
   "metadata": {},
   "source": [
    "<h3>Mathematics</h3>"
   ]
  },
  {
   "cell_type": "code",
   "execution_count": 154,
   "id": "01c56a4e-0749-4244-ae9f-3cbb33f310d1",
   "metadata": {},
   "outputs": [
    {
     "name": "stdout",
     "output_type": "stream",
     "text": [
      "[1 2 3 4 5]\n",
      "[3 4 5 6 7]\n",
      "[-1  0  1  2  3]\n",
      "[ 6 12 18 24 30]\n",
      "[0.5 1.  1.5 2.  2.5]\n",
      "[2 2 4 5 5]\n",
      "[[1 1 1]\n",
      " [1 1 1]]\n",
      "[[2 2]\n",
      " [2 2]\n",
      " [2 2]]\n",
      "[[6 6]\n",
      " [6 6]]\n",
      "1.0\n",
      "1\n",
      "8\n",
      "36\n"
     ]
    }
   ],
   "source": [
    "a=np.array([1,2,3,4,5])\n",
    "print(a)\n",
    "\n",
    "#SUM\n",
    "print(a+2)\n",
    "\n",
    "#SUBTRACT\n",
    "print(a-2)\n",
    "\n",
    "#MULTIPLY \n",
    "print(a*6)\n",
    "\n",
    "#DIVIDE\n",
    "print(a/2)\n",
    "\n",
    "b=np.array([1,0,1,1,0])\n",
    "print(b+a)\n",
    "\n",
    "# MATRIX MULTIPLICATION\n",
    "a1=np.ones((2,3),dtype='int32')\n",
    "a2=np.full((3,2),2, dtype='int32')\n",
    "print(a1)\n",
    "print(a2)\n",
    "b1=np.matmul(a1,a2)\n",
    "print(b1)\n",
    "\n",
    "# FIND THE DETERMINANT\n",
    "x=np.identity(3)\n",
    "print(np.linalg.det(x))\n",
    "\n",
    "# WE CAN ALSO FIND INVERSE OF MATRIX, EIGEN VALUES , SVD, ETC\n",
    "\n",
    "# MIN , MAX , SUM OF ARRAY\n",
    "z=np.array([[1,2,3,4],[5,6,7,8]])\n",
    "print(np.min(z))\n",
    "print(np.max(z))\n",
    "print(np.sum(z))"
   ]
  },
  {
   "cell_type": "markdown",
   "id": "ed23e574-7cde-4bc1-ad95-24f954aa2b88",
   "metadata": {},
   "source": [
    "<h3>Reorganizing and stacking of an array</h3>"
   ]
  },
  {
   "cell_type": "code",
   "execution_count": 160,
   "id": "72d1d0e2-1076-4648-ac7d-20952c2cfeb7",
   "metadata": {},
   "outputs": [
    {
     "name": "stdout",
     "output_type": "stream",
     "text": [
      "(2, 4)\n",
      "[[1 2]\n",
      " [3 4]\n",
      " [5 6]\n",
      " [7 8]]\n",
      "(4, 2)\n"
     ]
    }
   ],
   "source": [
    "before=np.array([[1,2,3,4],[5,6,7,8]])\n",
    "print(before.shape)\n",
    "after=before.reshape(4,2)\n",
    "print(after)\n",
    "print(after.shape)"
   ]
  },
  {
   "cell_type": "code",
   "execution_count": 162,
   "id": "3f6165b6-afec-45bc-95cd-7c5da4464a1f",
   "metadata": {},
   "outputs": [
    {
     "name": "stdout",
     "output_type": "stream",
     "text": [
      "[[1 2 3 4]\n",
      " [1 2 3 4]\n",
      " [5 6 7 8]\n",
      " [5 6 7 8]]\n"
     ]
    }
   ],
   "source": [
    "# VERTICALLY STAKCING ARRAY \n",
    "\n",
    "v1=np.array([1,2,3,4])\n",
    "v2=np.array([5,6,7,8])\n",
    "print(np.stack([v1,v1,v2,v2]))"
   ]
  },
  {
   "cell_type": "markdown",
   "id": "99a75fd0-a1f9-4aff-98d3-35578a568cdb",
   "metadata": {},
   "source": [
    "<h3>Solve a few Questions</h3>"
   ]
  },
  {
   "cell_type": "markdown",
   "id": "35e1e716-0849-4bf5-a91b-b195cb5522dc",
   "metadata": {},
   "source": [
    "The Matrix is \n",
    "1   2   3   4   5\n",
    "6   7   8   9   10\n",
    "11  12  13  14  15\n",
    "16  17  18  19  20\n",
    "21  22  23  24  25\n",
    "26  27  28  29  30"
   ]
  },
  {
   "cell_type": "code",
   "execution_count": 167,
   "id": "b36630f9-2d7b-41f8-8de7-4668f1ca7e66",
   "metadata": {},
   "outputs": [
    {
     "name": "stdout",
     "output_type": "stream",
     "text": [
      "[[ 1  2  3  4  5]\n",
      " [ 6  7  8  9 10]\n",
      " [11 12 13 14 15]\n",
      " [16 17 18 19 20]\n",
      " [21 22 23 24 25]\n",
      " [26 27 28 29 30]]\n"
     ]
    }
   ],
   "source": [
    "prac = np.array([[1,2,3,4,5],[6,7,8,9,10],[11,12,13,14,15],[16,17,18,19,20],[21,22,23,24,25],[26,27,28,29,30]])\n",
    "print(prac)"
   ]
  },
  {
   "cell_type": "code",
   "execution_count": 169,
   "id": "5b1453cf-d691-43de-bd4d-fc486b2021e4",
   "metadata": {},
   "outputs": [
    {
     "name": "stdout",
     "output_type": "stream",
     "text": [
      "[[11 12]\n",
      " [16 17]]\n"
     ]
    }
   ],
   "source": [
    "# ACCESS ELEMENTS 11,12,16,17\n",
    "print(prac[2:4,0:2])"
   ]
  },
  {
   "cell_type": "code",
   "execution_count": 177,
   "id": "c22b3cdc-cda9-41e1-b850-b57b50744baf",
   "metadata": {},
   "outputs": [
    {
     "name": "stdout",
     "output_type": "stream",
     "text": [
      "[ 2  8 14 20]\n"
     ]
    }
   ],
   "source": [
    "# ACCESS ELEMENT 2,8,14,20\n",
    "print(prac[[0,1,2,3],[1,2,3,4]])"
   ]
  },
  {
   "cell_type": "code",
   "execution_count": 183,
   "id": "a653d0ad-66c2-477c-a3d8-31f8c28f2736",
   "metadata": {},
   "outputs": [
    {
     "name": "stdout",
     "output_type": "stream",
     "text": [
      "[[ 4  5]\n",
      " [24 25]\n",
      " [29 30]]\n"
     ]
    }
   ],
   "source": [
    "# ACCESS ELEMENT 4,5, 24,25,29,30\n",
    "print(prac[[0,4,5],3:])"
   ]
  },
  {
   "cell_type": "code",
   "execution_count": null,
   "id": "3ce8d069-dae1-44f0-b2ea-841e0666dd39",
   "metadata": {},
   "outputs": [],
   "source": []
  }
 ],
 "metadata": {
  "kernelspec": {
   "display_name": "Python 3 (ipykernel)",
   "language": "python",
   "name": "python3"
  },
  "language_info": {
   "codemirror_mode": {
    "name": "ipython",
    "version": 3
   },
   "file_extension": ".py",
   "mimetype": "text/x-python",
   "name": "python",
   "nbconvert_exporter": "python",
   "pygments_lexer": "ipython3",
   "version": "3.12.7"
  }
 },
 "nbformat": 4,
 "nbformat_minor": 5
}
